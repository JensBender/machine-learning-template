{
 "cells": [
  {
   "cell_type": "markdown",
   "id": "cbf7c4ae-408e-4aeb-9fe9-e20263d2ac7f",
   "metadata": {},
   "source": [
    "# Introduction"
   ]
  },
  {
   "cell_type": "markdown",
   "id": "28f512f9-2618-4b1a-a361-69b63dcfdcd7",
   "metadata": {},
   "source": [
    "**Overview:** Brief description of the problem, the dataset, and the main objectives of the project."
   ]
  },
  {
   "cell_type": "markdown",
   "id": "9f9288e0-3815-4c47-94c3-33d0a6aafc8e",
   "metadata": {},
   "source": [
    "# Setup "
   ]
  },
  {
   "cell_type": "code",
   "execution_count": null,
   "id": "100528be-33fb-4f95-b8f8-e791de38fe6f",
   "metadata": {},
   "outputs": [],
   "source": [
    "# Imports\n",
    "import pandas as pd\n",
    "import numpy as np"
   ]
  },
  {
   "cell_type": "markdown",
   "id": "2c93f5c7-8968-4a0e-907f-a6bc60d0dd3d",
   "metadata": {},
   "source": [
    "# Data Loading"
   ]
  },
  {
   "cell_type": "code",
   "execution_count": null,
   "id": "086d0cf0-e26b-4ab4-9070-cf96d67e5f5f",
   "metadata": {},
   "outputs": [],
   "source": [
    "# Read data from csv file to pandas DataFrame\n",
    "df = pd.read_csv(\"\")"
   ]
  },
  {
   "cell_type": "markdown",
   "id": "52d7809f-dd55-4350-a52d-7c20c761a102",
   "metadata": {},
   "source": [
    "# Data Quality Checks"
   ]
  },
  {
   "cell_type": "code",
   "execution_count": null,
   "id": "019d22f7-282d-47ee-bfcf-e85352c450c9",
   "metadata": {},
   "outputs": [],
   "source": [
    "# Show DataFrame info\n",
    "df.info()"
   ]
  },
  {
   "cell_type": "code",
   "execution_count": null,
   "id": "8b00719b-3f66-405d-97a0-79907e91ea5f",
   "metadata": {},
   "outputs": [],
   "source": [
    "# Show top five rows\n",
    "df.head()"
   ]
  },
  {
   "cell_type": "markdown",
   "id": "7aad1422-e239-4d5d-b6e4-31661d8050be",
   "metadata": {},
   "source": [
    "# Data Preprocessing"
   ]
  },
  {
   "cell_type": "markdown",
   "id": "eb28c409-34a3-493f-8cd9-856b5c25e0d3",
   "metadata": {},
   "source": [
    "# Exploratory Data Analysis (EDA)"
   ]
  },
  {
   "cell_type": "markdown",
   "id": "e4f4d486-4d2c-4214-a260-ed19c446c41b",
   "metadata": {},
   "source": [
    "# Train-Validation-Test Split"
   ]
  },
  {
   "cell_type": "markdown",
   "id": "da21e2d4-cbd4-42f7-b7d1-f3997b3619f1",
   "metadata": {},
   "source": [
    "# Model Training"
   ]
  }
 ],
 "metadata": {
  "kernelspec": {
   "display_name": "machine-learning-venv",
   "language": "python",
   "name": "machine-learning-venv"
  },
  "language_info": {
   "codemirror_mode": {
    "name": "ipython",
    "version": 3
   },
   "file_extension": ".py",
   "mimetype": "text/x-python",
   "name": "python",
   "nbconvert_exporter": "python",
   "pygments_lexer": "ipython3",
   "version": "3.10.4"
  }
 },
 "nbformat": 4,
 "nbformat_minor": 5
}
