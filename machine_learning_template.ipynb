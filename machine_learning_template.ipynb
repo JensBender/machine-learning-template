{
 "cells": [
  {
   "cell_type": "markdown",
   "id": "cbf7c4ae-408e-4aeb-9fe9-e20263d2ac7f",
   "metadata": {},
   "source": [
    "# Introduction"
   ]
  },
  {
   "cell_type": "markdown",
   "id": "28f512f9-2618-4b1a-a361-69b63dcfdcd7",
   "metadata": {},
   "source": [
    "**Overview:** Brief description of the problem, the dataset, and the main objectives of the project."
   ]
  },
  {
   "cell_type": "markdown",
   "id": "9f9288e0-3815-4c47-94c3-33d0a6aafc8e",
   "metadata": {},
   "source": [
    "# Setup "
   ]
  },
  {
   "cell_type": "markdown",
   "id": "00680c12-3986-4262-9d6d-e330b55fd079",
   "metadata": {},
   "source": [
    "## Imports"
   ]
  },
  {
   "cell_type": "code",
   "execution_count": null,
   "id": "100528be-33fb-4f95-b8f8-e791de38fe6f",
   "metadata": {},
   "outputs": [],
   "source": [
    "import pandas as pd\n",
    "import numpy as np\n",
    "import matplotlib.pyplot as plt\n",
    "import seaborn as sns"
   ]
  },
  {
   "cell_type": "markdown",
   "id": "4896aa22-da27-4d06-b34f-d63ceace4ff0",
   "metadata": {},
   "source": [
    "## Environment Variables \n",
    "**Note**: Setting environment variables is optional, but it is recommended if you store sensitive information (such as API keys or database credentials) in a `.env` file. Using environment variables helps keep such information secure and separate from your codebase."
   ]
  },
  {
   "cell_type": "code",
   "execution_count": null,
   "id": "711bb3ec-8e57-460d-8b31-0508025f19c4",
   "metadata": {},
   "outputs": [],
   "source": [
    "# Imports\n",
    "from dotenv import load_dotenv\n",
    "import os\n",
    "\n",
    "# Load environment variables from .env file\n",
    "load_dotenv()\n",
    "\n",
    "# Get API key from .env \n",
    "api_key = os.getenv(\"API_KEY\")\n",
    "\n",
    "# Get SQL database credentials from .env\n",
    "sql_username = os.getenv(\"SQL_USERNAME\")\n",
    "sql_password = os.getenv(\"SQL_PASSWORD\")"
   ]
  },
  {
   "cell_type": "markdown",
   "id": "2c93f5c7-8968-4a0e-907f-a6bc60d0dd3d",
   "metadata": {},
   "source": [
    "# Data Loading"
   ]
  },
  {
   "cell_type": "markdown",
   "id": "3de96aef-7438-41fd-bd1d-8cdbdc0ed9cb",
   "metadata": {},
   "source": [
    "## csv "
   ]
  },
  {
   "cell_type": "code",
   "execution_count": null,
   "id": "086d0cf0-e26b-4ab4-9070-cf96d67e5f5f",
   "metadata": {},
   "outputs": [],
   "source": [
    "# Load data from a csv file into a Pandas DataFrame\n",
    "df = pd.read_csv(\"your_csv_file_here.csv\")"
   ]
  },
  {
   "cell_type": "markdown",
   "id": "b63482d3-000f-4235-a16a-51d6d8a08dba",
   "metadata": {},
   "source": [
    "## MySQL"
   ]
  },
  {
   "cell_type": "code",
   "execution_count": null,
   "id": "9b81da48-0441-4908-ba1a-990449b65ed5",
   "metadata": {},
   "outputs": [],
   "source": [
    "# Imports \n",
    "from sqlalchemy import create_engine\n",
    "\n",
    "# Database info\n",
    "mysql_host = \"localhost\"  # Default hostname for a MySQL server running locally\n",
    "mysql_port = 3306  # Default port for MySQL\n",
    "mysql_database_name = \"your_mysql_database_name_here\"\n",
    "mysql_table_name = \"your_mysql_table_name_here\"\n",
    "\n",
    "# Create an SQLAlchemy engine for interacting with the MySQL database\n",
    "engine = create_engine(f\"mysql+mysqlconnector://{sql_username}:{sql_password}@{mysql_host}:{mysql_port}/{mysql_database_name}\")\n",
    "\n",
    "# Load data from MySQL database into a Pandas DataFrame\n",
    "with engine.connect() as connection:\n",
    "    df = pd.read_sql(f\"SELECT * FROM {mysql_table_name}\", con=connection)"
   ]
  },
  {
   "cell_type": "markdown",
   "id": "52d7809f-dd55-4350-a52d-7c20c761a102",
   "metadata": {},
   "source": [
    "# Data Quality Checks"
   ]
  },
  {
   "cell_type": "code",
   "execution_count": null,
   "id": "019d22f7-282d-47ee-bfcf-e85352c450c9",
   "metadata": {},
   "outputs": [],
   "source": [
    "# Show DataFrame info\n",
    "df.info()"
   ]
  },
  {
   "cell_type": "code",
   "execution_count": null,
   "id": "8b00719b-3f66-405d-97a0-79907e91ea5f",
   "metadata": {},
   "outputs": [],
   "source": [
    "# Show top five rows\n",
    "df.head()"
   ]
  },
  {
   "cell_type": "markdown",
   "id": "7aad1422-e239-4d5d-b6e4-31661d8050be",
   "metadata": {},
   "source": [
    "# Data Preprocessing"
   ]
  },
  {
   "cell_type": "markdown",
   "id": "619f1a0d-a98f-4446-8d44-d7e553e6230f",
   "metadata": {},
   "source": [
    "## Handling Duplicates"
   ]
  },
  {
   "cell_type": "markdown",
   "id": "ee509a36-86a0-4e56-bbeb-ecb29a809288",
   "metadata": {},
   "source": [
    "Duplicates based on all columns:"
   ]
  },
  {
   "cell_type": "code",
   "execution_count": null,
   "id": "71162a8d-4f29-470c-a919-8494ef16e376",
   "metadata": {},
   "outputs": [],
   "source": [
    "# Diagnose duplicates \n",
    "df.duplicated().value_counts()"
   ]
  },
  {
   "cell_type": "code",
   "execution_count": null,
   "id": "f0253293-b7c9-4335-9eef-61b29a09ce2e",
   "metadata": {},
   "outputs": [],
   "source": [
    "# Remove duplicates\n",
    "df = df.drop_duplicates().copy()"
   ]
  },
  {
   "cell_type": "markdown",
   "id": "a55f43e8-f544-414c-8979-d3a52b0b919d",
   "metadata": {},
   "source": [
    "Duplicates based on specific columns, e.g. the ID column or a combination of columns:"
   ]
  },
  {
   "cell_type": "code",
   "execution_count": null,
   "id": "13ec11f9-42d4-4bd2-a769-c6affd2778d9",
   "metadata": {},
   "outputs": [],
   "source": [
    "# Diagnose duplicates\n",
    "df.duplicated(subset=[\"column_1\", \"column_2\", \"column_3\"]).value_counts()"
   ]
  },
  {
   "cell_type": "code",
   "execution_count": null,
   "id": "c620ab52-9ff0-4b3d-a0d6-ee856fdfb4cf",
   "metadata": {},
   "outputs": [],
   "source": [
    "# Remove duplicates\n",
    "df = df.drop_duplicates(subset=[\"column_1\", \"column_2\", \"column_3\"]).copy()"
   ]
  },
  {
   "cell_type": "markdown",
   "id": "eb28c409-34a3-493f-8cd9-856b5c25e0d3",
   "metadata": {},
   "source": [
    "## Data Type Conversion"
   ]
  },
  {
   "cell_type": "code",
   "execution_count": null,
   "id": "5d92d718-ec5a-491c-873b-f2b8230f71a7",
   "metadata": {},
   "outputs": [],
   "source": [
    "# Convert column from str to int\n",
    "df[\"int_column\"] = df[\"str_column\"].astype(\"Int32\")"
   ]
  },
  {
   "cell_type": "code",
   "execution_count": null,
   "id": "ee9eb41a-a715-4c64-a6ca-9db164c4dcbc",
   "metadata": {},
   "outputs": [],
   "source": [
    "# Convert column from str to datetime\n",
    "df[\"datetime_column\"] = pd.to_datetime(df[\"str_column\"])"
   ]
  },
  {
   "cell_type": "markdown",
   "id": "47ff6c41-2244-462e-968a-9e8473a89ed6",
   "metadata": {},
   "source": [
    "## Feature Extraction"
   ]
  },
  {
   "cell_type": "markdown",
   "id": "e1c9931c-d4f6-4255-a894-2be60a02c26e",
   "metadata": {},
   "source": [
    "### Categorical Feature from String Column"
   ]
  },
  {
   "cell_type": "code",
   "execution_count": null,
   "id": "639472a6-9633-4972-b19f-e57b10ad2087",
   "metadata": {},
   "outputs": [],
   "source": [
    "# Function to extract a category from a string   \n",
    "def extract_category_from_string(string):\n",
    "    # Map categories to their corresponding list of keywords\n",
    "    category_keywords_map = {\n",
    "        \"Category 1\": [\"Keyword 1\", \"Keyword 2\", \"Keyword 3\"],\n",
    "        \"Category 2\": [\"Keyword 4\", \"Keyword 5\", \"Keyword 6\"],\n",
    "        \"Category 3\": [\"Keyword 7\", \"Keyword 8\", \"Keyword 9\"]\n",
    "    }\n",
    "\n",
    "    # Loop through each category and its associated keywords \n",
    "    for category, keywords in category_keywords_map.items():\n",
    "        # Check if any keyword is present in the string\n",
    "        if any(keyword in string for keyword in keywords):\n",
    "            return category  # Return the category corresponding to the keyword\n",
    "    return np.nan  # Return a missing value if no keyword matches\n",
    "\n",
    "# Apply function on an existing string column to create a new categorical feature column\n",
    "df[\"categorical_feature\"] = df[\"str_column\"].apply(extract_category_from_string)\n",
    "\n",
    "# Show category frequencies\n",
    "print(df[\"categorical_feature\"].value_counts())"
   ]
  },
  {
   "cell_type": "markdown",
   "id": "48f9089b-a2fd-4305-aa23-086332d45c01",
   "metadata": {},
   "source": [
    "### Numerical Feature from String Column"
   ]
  },
  {
   "cell_type": "code",
   "execution_count": null,
   "id": "41134f56-1d30-435d-9f32-6ff428d940a6",
   "metadata": {},
   "outputs": [],
   "source": [
    "# Imports\n",
    "import re\n",
    "\n",
    "# Function to extract the first number in a string \n",
    "def extract_number_from_string(string):\n",
    "    first_number = re.search(r\"\\b-?\\d+([.,]\\d+)?\\b\", string)  # searches for first integer or float (positive or negative; decimal separator \".\" or \",\")\n",
    "    if first_number:\n",
    "        return float(first_number.group().replace(\",\", \".\"))  # Replace \",\" with \".\" as decimal separator  \n",
    "    else:\n",
    "        return np.nan  # Return a missing value if no number in string\n",
    "\n",
    "# Apply function on an existing string column to create a new numerical feature column\n",
    "df[\"numerical_feature\"] = df[\"str_column\"].apply(extract_number_from_string)\n",
    "\n",
    "# Show descriptive statistics of numerical feature\n",
    "df[\"numerical_feature\"].describe()"
   ]
  },
  {
   "cell_type": "markdown",
   "id": "beba6942-83b2-4bd4-9223-94bfc963beef",
   "metadata": {},
   "source": [
    "### Boolean Feature from String Column"
   ]
  },
  {
   "cell_type": "code",
   "execution_count": null,
   "id": "8d5277ca-3ef2-4e5f-8b06-e2701b601f1a",
   "metadata": {},
   "outputs": [],
   "source": [
    "# List of keywords to determine if the feature is present or absent\n",
    "keywords = [\"keyword 1\", \"keyword 2\", \"keyword 3\"]\n",
    "\n",
    "# Extract boolean feature column: True if any keyword is found in the string column\n",
    "df[\"boolean_feature\"] = df[\"str_column\"].apply(lambda x: any(keyword.lower() in x.lower() for keyword in keywords))\n",
    "\n",
    "# Show frequencies of boolean feature\n",
    "print(df[\"boolean_feature\"].value_counts())"
   ]
  },
  {
   "cell_type": "markdown",
   "id": "6cc4d1a9-db9b-4e28-ba65-986831dd8b38",
   "metadata": {},
   "source": [
    "## Handling Missing Values"
   ]
  },
  {
   "cell_type": "markdown",
   "id": "83b7806d-1465-4747-8780-b2e28d51a468",
   "metadata": {},
   "source": [
    "### Imputation"
   ]
  },
  {
   "cell_type": "markdown",
   "id": "6c0c06ef-bbbf-4d18-bde4-e7a50fc1a1a3",
   "metadata": {},
   "source": [
    "Imputation for numerical column:"
   ]
  },
  {
   "cell_type": "code",
   "execution_count": null,
   "id": "1680d14e-5853-4c3f-ac50-d639b7033fa9",
   "metadata": {},
   "outputs": [],
   "source": [
    "# Descriptive statistics of numerical column\n",
    "df[\"numerical_column\"].describe()"
   ]
  },
  {
   "cell_type": "code",
   "execution_count": null,
   "id": "342ca973-3ef1-43a3-b690-69c0ed2f0d12",
   "metadata": {},
   "outputs": [],
   "source": [
    "# Impute missing values with the median\n",
    "median = df[\"numerical_column\"].median()\n",
    "df[\"numerical_column\"] = df[\"numerical_column\"].fillna(median)"
   ]
  },
  {
   "cell_type": "markdown",
   "id": "8018d4b9-c440-4b15-aafb-a4bb3a3e79fa",
   "metadata": {},
   "source": [
    "Imputation for categorical column:"
   ]
  },
  {
   "cell_type": "code",
   "execution_count": null,
   "id": "0638cab2-bc30-4ae3-9cc1-310b50d5cb69",
   "metadata": {},
   "outputs": [],
   "source": [
    "# Frequencies of categorical column\n",
    "df[\"categorical_column\"].value_counts()"
   ]
  },
  {
   "cell_type": "code",
   "execution_count": null,
   "id": "c36266f3-6460-48cf-83af-0c888432655b",
   "metadata": {},
   "outputs": [],
   "source": [
    "# Impute missing values with the mode \n",
    "mode = df[\"categorical_column\"].mode()[0]\n",
    "df[\"categorical_column\"] = df[\"categorical_column\"].fillna(mode)"
   ]
  },
  {
   "cell_type": "markdown",
   "id": "ed9519b6-a492-4308-abc0-89a470543652",
   "metadata": {},
   "source": [
    "### Deletion"
   ]
  },
  {
   "cell_type": "code",
   "execution_count": null,
   "id": "33cc408e-1e71-4ec1-a678-9b14e16878ac",
   "metadata": {},
   "outputs": [],
   "source": [
    "# Delete rows where any column has a missing value \n",
    "df.dropna(inplace=True)"
   ]
  },
  {
   "cell_type": "code",
   "execution_count": null,
   "id": "fbf359f7-2519-47cf-bb29-60d64918626a",
   "metadata": {},
   "outputs": [],
   "source": [
    "# Delete rows where either column_1 or column_2 has a missing value \n",
    "df.dropna(subset=[\"column_1\", \"column_2\"], how=\"any\", inplace=True)"
   ]
  },
  {
   "cell_type": "markdown",
   "id": "9ca10b19-02a9-4a0f-b543-7374f677d139",
   "metadata": {},
   "source": [
    "# Exploratory Data Analysis (EDA)"
   ]
  },
  {
   "cell_type": "markdown",
   "id": "571beab2-bbb5-4fba-8143-69b04a5ea2c8",
   "metadata": {},
   "source": [
    "## Column Types"
   ]
  },
  {
   "cell_type": "code",
   "execution_count": null,
   "id": "31d48ac1-c330-43f6-b460-bf5b57c9acb4",
   "metadata": {},
   "outputs": [],
   "source": [
    "# Show columns and their data types\n",
    "df.info()"
   ]
  },
  {
   "cell_type": "code",
   "execution_count": null,
   "id": "e6838b9e-f03b-4791-abd6-ab1c0565e4fa",
   "metadata": {},
   "outputs": [],
   "source": [
    "# Define numerical, categorical and boolean columns\n",
    "numerical_columns = [\"numerical_column_1\", \"numerical_column_2\", \"numerical_column_3\"]\n",
    "categorical_columns = [\"categorical_column_1\", \"categorical_column_2\", \"categorical_column_3\"]\n",
    "boolean_columns = [\"boolean_column_1\", \"boolean_column_2\", \"boolean_column_3\"]"
   ]
  },
  {
   "cell_type": "markdown",
   "id": "cfe81ae6-559e-432b-8cf2-8643b13ef6dd",
   "metadata": {},
   "source": [
    "## Descriptive Statistics"
   ]
  },
  {
   "cell_type": "code",
   "execution_count": null,
   "id": "565ce7fc-350e-4624-949a-60d1386bb82f",
   "metadata": {},
   "outputs": [],
   "source": [
    "# Table with descriptive statistics of all numerical columns\n",
    "df[numerical_columns].describe().transpose()"
   ]
  },
  {
   "cell_type": "markdown",
   "id": "9895c96c-daff-4873-852d-615627e17dcb",
   "metadata": {},
   "source": [
    "## Numerical Label"
   ]
  },
  {
   "cell_type": "markdown",
   "id": "8b76c43e-ff1c-4477-8610-a103373b9383",
   "metadata": {},
   "source": [
    "### Histogram"
   ]
  },
  {
   "cell_type": "code",
   "execution_count": null,
   "id": "4efcf592-a21f-4155-8d27-b16cffd8cf44",
   "metadata": {},
   "outputs": [],
   "source": [
    "# Create histogram  of numerical label\n",
    "sns.histplot(df[\"numerical_label\"])\n",
    "\n",
    "# Add title and axes labels \n",
    "plt.title(\"Distribution of numerical_label\")\n",
    "plt.xlabel(\"numerical_label\")\n",
    "plt.ylabel(\"Frequency\")\n",
    "\n",
    "# Show the plot\n",
    "plt.show()"
   ]
  },
  {
   "cell_type": "markdown",
   "id": "6382adcc-1fdb-48b7-8f2a-6d27a559bbfc",
   "metadata": {},
   "source": [
    "### Correlations"
   ]
  },
  {
   "cell_type": "code",
   "execution_count": null,
   "id": "3675dca5-3693-4669-8da3-6d97648bc5be",
   "metadata": {},
   "outputs": [],
   "source": [
    "# Correlations between the numerical label and each numerical and boolean column\n",
    "combined_columns = numerical_columns + boolean_columns\n",
    "df[combined_columns].corr()[\"numerical_label\"].sort_values(ascending=False)"
   ]
  },
  {
   "cell_type": "markdown",
   "id": "4a6c0cc0-34f1-4f4c-b8d0-2243ce6f4e4d",
   "metadata": {},
   "source": [
    "### Scatterplots \n",
    "Scatterplot matrix that shows scatterplots between the numerical label and each numerical column.   \n",
    "Example code for 9 scatterplots in a 3x3 matrix:"
   ]
  },
  {
   "cell_type": "code",
   "execution_count": null,
   "id": "36f4a478-acd0-4f18-99f8-81f9247250bd",
   "metadata": {},
   "outputs": [],
   "source": [
    "# Set the figure size \n",
    "plt.figure(figsize=(12, 12))\n",
    "\n",
    "# List of numerical columns excluding the label column\n",
    "numerical_columns_without_label = [col for col in numerical_columns if col != \"numerical_label\"]\n",
    "\n",
    "# Iterate over the numerical columns\n",
    "for i, numerical_column in enumerate(numerical_columns_without_label):\n",
    "    # Create a subplot in a 3x3 grid (current subplot i+1 because subplot indices start at 1)\n",
    "    plt.subplot(3, 3, i + 1)\n",
    "    \n",
    "    # Create a scatterplot between the current column and the numerical label\n",
    "    sns.scatterplot(data=df, x=numerical_column, y=\"numerical_label\")\n",
    "    \n",
    "    # Add title and axis labels \n",
    "    plt.title(f\"numerical_label by {numerical_column}\")\n",
    "    plt.xlabel(f\"{numerical_column}\")\n",
    "    plt.ylabel(\"numerical_label\")\n",
    "\n",
    "# Adjust layout to prevent overlap\n",
    "plt.tight_layout()\n",
    "\n",
    "# Show the plot\n",
    "plt.show()"
   ]
  },
  {
   "cell_type": "markdown",
   "id": "73cdbe81-6e4d-48b4-ae69-07336924ce94",
   "metadata": {},
   "source": [
    "### Numerical Label by Category"
   ]
  },
  {
   "cell_type": "markdown",
   "id": "51c58bee-b56d-4f5c-9b3f-ccf5cd47203c",
   "metadata": {},
   "source": [
    "Descriptive statistics:"
   ]
  },
  {
   "cell_type": "code",
   "execution_count": null,
   "id": "bfe5d314-45ef-4eee-9cfa-918a52081ae8",
   "metadata": {},
   "outputs": [],
   "source": [
    "# Descriptive statistics of numerical label by categorical column\n",
    "label_by_category = df[\"numerical_label\"].groupby(df[\"categorical_column\"])\n",
    "label_by_category.describe()"
   ]
  },
  {
   "cell_type": "markdown",
   "id": "7fd0cd54-3004-408b-a1b6-4874e034fd71",
   "metadata": {},
   "source": [
    "Bar plot:"
   ]
  },
  {
   "cell_type": "code",
   "execution_count": null,
   "id": "e5f6c9f6-896f-4490-a125-3fe8ce91cb8c",
   "metadata": {},
   "outputs": [],
   "source": [
    "# Store the median of the numerical label by category\n",
    "median_label_by_category = label_by_category.median()\n",
    "\n",
    "# Bar plot of median by category\n",
    "sns.barplot(x=median_label_by_category.index, y=median_label_by_category.values, palette=\"colorblind\")\n",
    "\n",
    "# Add title and axes labels\n",
    "plt.title(\"Median numerical_label by categorical_column\")\n",
    "plt.xlabel(\"Category\")\n",
    "plt.ylabel(\"numerical_label\")\n",
    "\n",
    "# Show the plot\n",
    "plt.show()"
   ]
  },
  {
   "cell_type": "markdown",
   "id": "23ec66e0-2f7f-49c4-847b-f7b696217640",
   "metadata": {},
   "source": [
    "Bar plot matrix that shows bar plots between the numerical label and each categorical column.  \n",
    "Example code for 5 bar plots in a 2x3 matrix:"
   ]
  },
  {
   "cell_type": "code",
   "execution_count": null,
   "id": "dae6f05a-e6d8-4f98-9046-f2ad3cd56b2b",
   "metadata": {},
   "outputs": [],
   "source": [
    "# Set the figure size to 12x6 inches\n",
    "plt.figure(figsize=(12, 6))\n",
    "\n",
    "# Iterate over the categorical columns\n",
    "for i, categorical_column in enumerate(categorical_columns):\n",
    "    # Create a subplot in a 2x3 grid (current subplot i+1 because subplot indices start at 1)\n",
    "    plt.subplot(2, 3, i + 1)\n",
    "    \n",
    "    # Create a bar plot of median numerical_label by the current categorical column\n",
    "    ax = sns.barplot(data=df, x=categorical_column, y=\"numerical_label\", estimator=np.median, ci=None)\n",
    "    \n",
    "    # Add title and axes labels\n",
    "    plt.title(f\"Median numerical_label by {categorical_column}\")\n",
    "    plt.xlabel(\"Category\")\n",
    "    plt.ylabel(\"numerical_label\")\n",
    "\n",
    "# Adjust layout to prevent overlap\n",
    "plt.tight_layout()\n",
    "\n",
    "# Show the plot\n",
    "plt.show()"
   ]
  },
  {
   "cell_type": "markdown",
   "id": "c01f9891-a8ab-4a10-9351-2be2e20a1e8e",
   "metadata": {},
   "source": [
    "## Categorical Columns"
   ]
  },
  {
   "cell_type": "markdown",
   "id": "775bdb25-d466-48d1-bf2f-f2168e7bd774",
   "metadata": {},
   "source": [
    "### Frequencies"
   ]
  },
  {
   "cell_type": "markdown",
   "id": "5735f52c-eb16-4658-a566-0fcebf883180",
   "metadata": {},
   "source": [
    "#### Single Column"
   ]
  },
  {
   "cell_type": "markdown",
   "id": "d9b9fe5a-ecf0-4388-8a9d-88590fa48f89",
   "metadata": {},
   "source": [
    "Absolute and relative frequencies of a single categorical colum:"
   ]
  },
  {
   "cell_type": "code",
   "execution_count": null,
   "id": "97d7a462-d369-4340-97e6-51480f28e58f",
   "metadata": {},
   "outputs": [],
   "source": [
    "# Calculate absolute and relative frequencies \n",
    "absolute_frequencies = df[\"categorical_column\"].value_counts()\n",
    "relative_frequencies = absolute_frequencies / absolute_frequencies.sum() * 100\n",
    "\n",
    "# Show frequencies\n",
    "print(f\"Absolute frequencies:\\n {absolute_frequencies}\\n\")\n",
    "print(f\"Relative frequencies:\\n {relative_frequencies.round(1)}\")"
   ]
  },
  {
   "cell_type": "markdown",
   "id": "b057fa22-fe17-4ea5-8558-cd8454ac77d6",
   "metadata": {},
   "source": [
    "Bar plot of frequencies:"
   ]
  },
  {
   "cell_type": "code",
   "execution_count": null,
   "id": "6e9a30df-8cbe-42b6-925d-57d808f9099c",
   "metadata": {},
   "outputs": [],
   "source": [
    "# Bar plot\n",
    "sns.barplot(x=absolute_frequencies.index, y=absolute_frequencies.values, palette=\"colorblind\")\n",
    "\n",
    "# Add title and axes labels \n",
    "plt.title(\"categorical_column\")\n",
    "plt.ylabel(\"Frequency\")\n",
    "\n",
    "# Rotate x-axis tick labels by 45 degrees\n",
    "plt.xticks(rotation=45)\n",
    "\n",
    "# Show the plot\n",
    "plt.show()"
   ]
  },
  {
   "cell_type": "markdown",
   "id": "5c44f3be-22bb-498c-9560-8a53cbe51cee",
   "metadata": {},
   "source": [
    "#### Multiple Columns"
   ]
  },
  {
   "cell_type": "markdown",
   "id": "c1b9fb2d-babe-4c40-a375-d697bc98ee5f",
   "metadata": {},
   "source": [
    "Absolute and relative frequencies of multiple categorical colums:"
   ]
  },
  {
   "cell_type": "code",
   "execution_count": null,
   "id": "e5c4b6e5-237c-47df-8d5d-862bd031ef1a",
   "metadata": {},
   "outputs": [],
   "source": [
    "# Initialize dictionaries to store frequencies for multiple categorical columns\n",
    "absolute_frequencies_dict = {}\n",
    "relative_frequencies_dict = {}\n",
    "\n",
    "# Iterate over the categorical columns\n",
    "for categorical_column in categorical_columns:\n",
    "    # Calculate absolute and relative frequencies \n",
    "    absolute_frequencies = df[categorical_column].value_counts()\n",
    "    relative_frequencies = absolute_frequencies / absolute_frequencies.sum() * 100\n",
    "\n",
    "    # Store frequencies\n",
    "    absolute_frequencies_dict[categorical_column] = absolute_frequencies\n",
    "    relative_frequencies_dict[categorical_column] = relative_frequencies\n",
    "\n",
    "    # Show frequencies\n",
    "    print(categorical_column.upper())\n",
    "    print(f\"Absolute frequencies:\\n {absolute_frequencies}\\n\")\n",
    "    print(f\"Relative frequencies (%):\\n {relative_frequencies.round(1)}\")\n",
    "    print(\"=\" * 50 + \"\\n\")"
   ]
  },
  {
   "cell_type": "markdown",
   "id": "7d3edff6-44e4-4e07-abd7-38d1fcb178cf",
   "metadata": {},
   "source": [
    "Bar plot matrix that shows frequencies for multiple categorical columns.  \n",
    "Example code for 5 bar plots in a 2x3 matrix:"
   ]
  },
  {
   "cell_type": "code",
   "execution_count": null,
   "id": "651f74b5-524c-4517-97bb-af5d7a401c5c",
   "metadata": {},
   "outputs": [],
   "source": [
    "# Set the figure size\n",
    "plt.figure(figsize=(12, 6))\n",
    "\n",
    "# Iterate over the categorical columns\n",
    "for i, categorical_column in enumerate(categorical_columns):\n",
    "    # Create a subplot in a 2x3 grid (current subplot i+1 because subplot indices start at 1)\n",
    "    plt.subplot(2, 3, i + 1)\n",
    "    \n",
    "    # Calculate frequencies for the current column\n",
    "    absolute_frequencies = df[categorical_column].value_counts()\n",
    "    \n",
    "    # Create bar plot for the current column\n",
    "    sns.barplot(x=absolute_frequencies.index, y=absolute_frequencies.values, estimator=np.median, ci=None)\n",
    "    \n",
    "    # Add title and axes labels\n",
    "    plt.title(categorical_column.title())\n",
    "    plt.ylabel(\"Frequency\")\n",
    "\n",
    "    # Rotate x-axis tick labels by 45 degrees\n",
    "    plt.xticks(rotation=45)\n",
    "\n",
    "# Adjust layout to prevent overlap\n",
    "plt.tight_layout()\n",
    "\n",
    "# Show the plot\n",
    "plt.show()"
   ]
  },
  {
   "cell_type": "markdown",
   "id": "05bed553-89be-4154-9775-d784adfc100f",
   "metadata": {},
   "source": [
    "## Correlations"
   ]
  },
  {
   "cell_type": "markdown",
   "id": "6dedb34a-4995-4e6d-9024-b526c26002a8",
   "metadata": {},
   "source": [
    "Correlation matrix:"
   ]
  },
  {
   "cell_type": "code",
   "execution_count": null,
   "id": "30a94e3f-694d-4b05-9436-fbeaf82f748f",
   "metadata": {},
   "outputs": [],
   "source": [
    "# Combine numerical and boolean columns for correlation analysis\n",
    "combined_columns = numerical_columns + boolean_columns\n",
    "\n",
    "# Calculate the correlation matrix \n",
    "correlation_matrix = df[combined_columns].corr()\n",
    "\n",
    "# Round correlations to 2 decimals\n",
    "correlation_matrix = round(correlation_matrix, 2)\n",
    "\n",
    "# Create an upper triangle mask (k=1 excludes the diagonal)\n",
    "mask = np.triu(np.ones(correlation_matrix.shape), k=1).astype(bool)\n",
    "\n",
    "# Set upper triangle to NaN to avoid redundant information\n",
    "correlation_matrix[mask] = np.nan\n",
    "\n",
    "# Show correlation matrix\n",
    "correlation_matrix"
   ]
  },
  {
   "cell_type": "markdown",
   "id": "83902fe5-8ac2-4f64-bf9b-33e84fefb781",
   "metadata": {},
   "source": [
    "Correlation heatmap:"
   ]
  },
  {
   "cell_type": "code",
   "execution_count": null,
   "id": "23f6eda3-d6aa-4578-8f55-d80d3e7153aa",
   "metadata": {},
   "outputs": [],
   "source": [
    "# Set the figure size\n",
    "plt.figure(figsize=(8, 6))\n",
    "\n",
    "# Create heatmap\n",
    "sns.heatmap(\n",
    "    correlation_matrix, \n",
    "    cmap=\"viridis\",  # Color map choice\n",
    "    annot=True,  # Show numbers\n",
    "    linewidth=0.5  # Thin white lines between cells\n",
    ")\n",
    "\n",
    "# Add title\n",
    "plt.title(\"Correlation Heatmap\")\n",
    "\n",
    "# Adjust layout to prevent cutting off labels\n",
    "plt.tight_layout()\n",
    "\n",
    "# Show the plot\n",
    "plt.show()"
   ]
  },
  {
   "cell_type": "markdown",
   "id": "d92936fd-c3a7-4441-83b1-7bca48db2323",
   "metadata": {},
   "source": [
    "Save correlation heatmap as an image:"
   ]
  },
  {
   "cell_type": "code",
   "execution_count": null,
   "id": "89a8b750-799b-4b7b-8ba4-7cb2cafc9064",
   "metadata": {},
   "outputs": [],
   "source": [
    "# Imports\n",
    "import os\n",
    "\n",
    "# Create images folder if it doesn't exist\n",
    "os.makedirs(\"images\", exist_ok=True)\n",
    "\n",
    "# Save the heatmap \n",
    "try:\n",
    "    # Construct full file path\n",
    "    image_path = os.path.join(\"images\", \"correlation_heatmap.png\") \n",
    "    \n",
    "    # Save the heatmap as a .png image \n",
    "    plt.savefig(image_path, bbox_inches=\"tight\", dpi=300)\n",
    "    print(f\"Correlation heatmap saved successfully to {image_path}\")\n",
    "\n",
    "except Exception as e:\n",
    "    print(f\"Error saving correlation heatmap: {e}\")"
   ]
  },
  {
   "cell_type": "markdown",
   "id": "e4f4d486-4d2c-4214-a260-ed19c446c41b",
   "metadata": {
    "jp-MarkdownHeadingCollapsed": true
   },
   "source": [
    "# Train-Validation-Test Split"
   ]
  },
  {
   "cell_type": "markdown",
   "id": "da21e2d4-cbd4-42f7-b7d1-f3997b3619f1",
   "metadata": {},
   "source": [
    "# Model Training"
   ]
  }
 ],
 "metadata": {
  "kernelspec": {
   "display_name": "machine-learning-venv",
   "language": "python",
   "name": "machine-learning-venv"
  },
  "language_info": {
   "codemirror_mode": {
    "name": "ipython",
    "version": 3
   },
   "file_extension": ".py",
   "mimetype": "text/x-python",
   "name": "python",
   "nbconvert_exporter": "python",
   "pygments_lexer": "ipython3",
   "version": "3.10.4"
  }
 },
 "nbformat": 4,
 "nbformat_minor": 5
}
