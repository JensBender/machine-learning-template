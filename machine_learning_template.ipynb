{
 "cells": [
  {
   "cell_type": "markdown",
   "id": "cbf7c4ae-408e-4aeb-9fe9-e20263d2ac7f",
   "metadata": {},
   "source": [
    "# Introduction"
   ]
  },
  {
   "cell_type": "markdown",
   "id": "28f512f9-2618-4b1a-a361-69b63dcfdcd7",
   "metadata": {},
   "source": [
    "**Overview:** Brief description of the problem, the dataset, and the main objectives of the project."
   ]
  },
  {
   "cell_type": "markdown",
   "id": "9f9288e0-3815-4c47-94c3-33d0a6aafc8e",
   "metadata": {},
   "source": [
    "# Setup "
   ]
  },
  {
   "cell_type": "markdown",
   "id": "00680c12-3986-4262-9d6d-e330b55fd079",
   "metadata": {},
   "source": [
    "## Imports"
   ]
  },
  {
   "cell_type": "code",
   "execution_count": null,
   "id": "100528be-33fb-4f95-b8f8-e791de38fe6f",
   "metadata": {},
   "outputs": [],
   "source": [
    "import pandas as pd\n",
    "import numpy as np"
   ]
  },
  {
   "cell_type": "markdown",
   "id": "4896aa22-da27-4d06-b34f-d63ceace4ff0",
   "metadata": {},
   "source": [
    "## Environment Variables \n",
    "**Note**: Setting environment variables is optional, but it is recommended if you store sensitive information (such as API keys or database credentials) in a `.env` file. Using environment variables helps keep such information secure and separate from your codebase."
   ]
  },
  {
   "cell_type": "code",
   "execution_count": null,
   "id": "711bb3ec-8e57-460d-8b31-0508025f19c4",
   "metadata": {},
   "outputs": [],
   "source": [
    "# Imports\n",
    "from dotenv import load_dotenv\n",
    "import os\n",
    "\n",
    "# Load environment variables from .env file\n",
    "load_dotenv()\n",
    "\n",
    "# Get API key from .env \n",
    "api_key = os.getenv(\"api_key\")"
   ]
  },
  {
   "cell_type": "markdown",
   "id": "2c93f5c7-8968-4a0e-907f-a6bc60d0dd3d",
   "metadata": {},
   "source": [
    "# Data Loading"
   ]
  },
  {
   "cell_type": "code",
   "execution_count": null,
   "id": "086d0cf0-e26b-4ab4-9070-cf96d67e5f5f",
   "metadata": {},
   "outputs": [],
   "source": [
    "# Read data from csv file to pandas DataFrame\n",
    "df = pd.read_csv(\"\")"
   ]
  },
  {
   "cell_type": "markdown",
   "id": "52d7809f-dd55-4350-a52d-7c20c761a102",
   "metadata": {},
   "source": [
    "# Data Quality Checks"
   ]
  },
  {
   "cell_type": "code",
   "execution_count": null,
   "id": "019d22f7-282d-47ee-bfcf-e85352c450c9",
   "metadata": {},
   "outputs": [],
   "source": [
    "# Show DataFrame info\n",
    "df.info()"
   ]
  },
  {
   "cell_type": "code",
   "execution_count": null,
   "id": "8b00719b-3f66-405d-97a0-79907e91ea5f",
   "metadata": {},
   "outputs": [],
   "source": [
    "# Show top five rows\n",
    "df.head()"
   ]
  },
  {
   "cell_type": "markdown",
   "id": "7aad1422-e239-4d5d-b6e4-31661d8050be",
   "metadata": {},
   "source": [
    "# Data Preprocessing"
   ]
  },
  {
   "cell_type": "markdown",
   "id": "619f1a0d-a98f-4446-8d44-d7e553e6230f",
   "metadata": {},
   "source": [
    "## Handling Duplicates"
   ]
  },
  {
   "cell_type": "code",
   "execution_count": null,
   "id": "71162a8d-4f29-470c-a919-8494ef16e376",
   "metadata": {},
   "outputs": [],
   "source": [
    "# Diagnose duplicates\n",
    "df.duplicated().value_counts()"
   ]
  },
  {
   "cell_type": "code",
   "execution_count": null,
   "id": "f0253293-b7c9-4335-9eef-61b29a09ce2e",
   "metadata": {},
   "outputs": [],
   "source": [
    "# Remove duplicates\n",
    "df = df.drop_duplicates().copy()"
   ]
  },
  {
   "cell_type": "markdown",
   "id": "eb28c409-34a3-493f-8cd9-856b5c25e0d3",
   "metadata": {},
   "source": [
    "## Data Type Conversion"
   ]
  },
  {
   "cell_type": "code",
   "execution_count": null,
   "id": "5d92d718-ec5a-491c-873b-f2b8230f71a7",
   "metadata": {},
   "outputs": [],
   "source": [
    "# Convert column from str to int\n",
    "df[\"int_column\"] = df[\"str_column\"].astype(\"Int32\")"
   ]
  },
  {
   "cell_type": "markdown",
   "id": "47ff6c41-2244-462e-968a-9e8473a89ed6",
   "metadata": {},
   "source": [
    "## Handling Missing Values"
   ]
  },
  {
   "cell_type": "markdown",
   "id": "6c0c06ef-bbbf-4d18-bde4-e7a50fc1a1a3",
   "metadata": {},
   "source": [
    "### Continuous Column"
   ]
  },
  {
   "cell_type": "code",
   "execution_count": null,
   "id": "1680d14e-5853-4c3f-ac50-d639b7033fa9",
   "metadata": {},
   "outputs": [],
   "source": [
    "# Descriptive statistics of continuous column\n",
    "df[\"continuous_column\"].describe()"
   ]
  },
  {
   "cell_type": "code",
   "execution_count": null,
   "id": "342ca973-3ef1-43a3-b690-69c0ed2f0d12",
   "metadata": {},
   "outputs": [],
   "source": [
    "# Impute missing values with the median\n",
    "median = df[\"continuous_column\"].median()\n",
    "df[\"continuous_column\"] = df[\"continuous_column\"].fillna(median)"
   ]
  },
  {
   "cell_type": "markdown",
   "id": "8018d4b9-c440-4b15-aafb-a4bb3a3e79fa",
   "metadata": {},
   "source": [
    "### Categorical Column"
   ]
  },
  {
   "cell_type": "code",
   "execution_count": null,
   "id": "0638cab2-bc30-4ae3-9cc1-310b50d5cb69",
   "metadata": {},
   "outputs": [],
   "source": [
    "# Frequencies of categorical column\n",
    "df[\"categorical_column\"].value_counts()"
   ]
  },
  {
   "cell_type": "code",
   "execution_count": null,
   "id": "c36266f3-6460-48cf-83af-0c888432655b",
   "metadata": {},
   "outputs": [],
   "source": [
    "# Impute missing values with the mode \n",
    "mode = df[\"categorical_column\"].mode()[0]\n",
    "df[\"categorical_column\"] = df[\"categorical_column\"].fillna(mode)"
   ]
  },
  {
   "cell_type": "markdown",
   "id": "9ca10b19-02a9-4a0f-b543-7374f677d139",
   "metadata": {},
   "source": [
    "# Exploratory Data Analysis (EDA)"
   ]
  },
  {
   "cell_type": "markdown",
   "id": "e4f4d486-4d2c-4214-a260-ed19c446c41b",
   "metadata": {},
   "source": [
    "# Train-Validation-Test Split"
   ]
  },
  {
   "cell_type": "markdown",
   "id": "da21e2d4-cbd4-42f7-b7d1-f3997b3619f1",
   "metadata": {},
   "source": [
    "# Model Training"
   ]
  }
 ],
 "metadata": {
  "kernelspec": {
   "display_name": "machine-learning-venv",
   "language": "python",
   "name": "machine-learning-venv"
  },
  "language_info": {
   "codemirror_mode": {
    "name": "ipython",
    "version": 3
   },
   "file_extension": ".py",
   "mimetype": "text/x-python",
   "name": "python",
   "nbconvert_exporter": "python",
   "pygments_lexer": "ipython3",
   "version": "3.10.4"
  }
 },
 "nbformat": 4,
 "nbformat_minor": 5
}
