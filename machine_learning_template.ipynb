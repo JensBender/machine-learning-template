{
 "cells": [
  {
   "cell_type": "markdown",
   "id": "cbf7c4ae-408e-4aeb-9fe9-e20263d2ac7f",
   "metadata": {},
   "source": [
    "# Introduction"
   ]
  },
  {
   "cell_type": "markdown",
   "id": "28f512f9-2618-4b1a-a361-69b63dcfdcd7",
   "metadata": {},
   "source": [
    "**Overview:** Brief description of the problem, the dataset, and the main objectives of the project."
   ]
  },
  {
   "cell_type": "markdown",
   "id": "9f9288e0-3815-4c47-94c3-33d0a6aafc8e",
   "metadata": {},
   "source": [
    "# Setup "
   ]
  },
  {
   "cell_type": "markdown",
   "id": "00680c12-3986-4262-9d6d-e330b55fd079",
   "metadata": {},
   "source": [
    "## Imports"
   ]
  },
  {
   "cell_type": "code",
   "execution_count": null,
   "id": "100528be-33fb-4f95-b8f8-e791de38fe6f",
   "metadata": {},
   "outputs": [],
   "source": [
    "import pandas as pd\n",
    "import numpy as np"
   ]
  },
  {
   "cell_type": "markdown",
   "id": "4896aa22-da27-4d06-b34f-d63ceace4ff0",
   "metadata": {},
   "source": [
    "## Environment Variables \n",
    "**Note**: Setting environment variables is optional, but it is recommended if you store sensitive information (such as API keys or database credentials) in a `.env` file. Using environment variables helps keep such information secure and separate from your codebase."
   ]
  },
  {
   "cell_type": "code",
   "execution_count": null,
   "id": "711bb3ec-8e57-460d-8b31-0508025f19c4",
   "metadata": {},
   "outputs": [],
   "source": [
    "# Imports\n",
    "from dotenv import load_dotenv\n",
    "import os\n",
    "\n",
    "# Load environment variables from .env file\n",
    "load_dotenv()\n",
    "\n",
    "# Get API key from .env \n",
    "api_key = os.getenv(\"API_KEY\")\n",
    "\n",
    "# Get SQL database credentials from .env\n",
    "sql_username = os.getenv(\"SQL_USERNAME\")\n",
    "sql_password = os.getenv(\"SQL_PASSWORD\")"
   ]
  },
  {
   "cell_type": "markdown",
   "id": "2c93f5c7-8968-4a0e-907f-a6bc60d0dd3d",
   "metadata": {},
   "source": [
    "# Data Loading"
   ]
  },
  {
   "cell_type": "markdown",
   "id": "3de96aef-7438-41fd-bd1d-8cdbdc0ed9cb",
   "metadata": {},
   "source": [
    "## csv "
   ]
  },
  {
   "cell_type": "code",
   "execution_count": null,
   "id": "086d0cf0-e26b-4ab4-9070-cf96d67e5f5f",
   "metadata": {},
   "outputs": [],
   "source": [
    "# Load data from a csv file into a Pandas DataFrame\n",
    "df = pd.read_csv(\"your_csv_file_here.csv\")"
   ]
  },
  {
   "cell_type": "markdown",
   "id": "b63482d3-000f-4235-a16a-51d6d8a08dba",
   "metadata": {},
   "source": [
    "## MySQL"
   ]
  },
  {
   "cell_type": "code",
   "execution_count": null,
   "id": "9b81da48-0441-4908-ba1a-990449b65ed5",
   "metadata": {},
   "outputs": [],
   "source": [
    "# Imports \n",
    "from sqlalchemy import create_engine\n",
    "\n",
    "# Database info\n",
    "mysql_host = \"localhost\"  # Default hostname for a MySQL server running locally\n",
    "mysql_port = 3306  # Default port for MySQL\n",
    "mysql_database_name = \"your_mysql_database_name_here\"\n",
    "mysql_table_name = \"your_mysql_table_name_here\"\n",
    "\n",
    "# Create an SQLAlchemy engine for interacting with the MySQL database\n",
    "engine = create_engine(f\"mysql+mysqlconnector://{sql_username}:{sql_password}@{mysql_host}:{mysql_port}/{mysql_database_name}\")\n",
    "\n",
    "# Load data from MySQL database into a Pandas DataFrame\n",
    "df = pd.read_sql(f\"SELECT * FROM {mysql_table_name}\", con=engine)\n",
    "\n",
    "# Close the engine\n",
    "engine.dispose()"
   ]
  },
  {
   "cell_type": "markdown",
   "id": "52d7809f-dd55-4350-a52d-7c20c761a102",
   "metadata": {},
   "source": [
    "# Data Quality Checks"
   ]
  },
  {
   "cell_type": "code",
   "execution_count": null,
   "id": "019d22f7-282d-47ee-bfcf-e85352c450c9",
   "metadata": {},
   "outputs": [],
   "source": [
    "# Show DataFrame info\n",
    "df.info()"
   ]
  },
  {
   "cell_type": "code",
   "execution_count": null,
   "id": "8b00719b-3f66-405d-97a0-79907e91ea5f",
   "metadata": {},
   "outputs": [],
   "source": [
    "# Show top five rows\n",
    "df.head()"
   ]
  },
  {
   "cell_type": "markdown",
   "id": "7aad1422-e239-4d5d-b6e4-31661d8050be",
   "metadata": {},
   "source": [
    "# Data Preprocessing"
   ]
  },
  {
   "cell_type": "markdown",
   "id": "619f1a0d-a98f-4446-8d44-d7e553e6230f",
   "metadata": {},
   "source": [
    "## Handling Duplicates"
   ]
  },
  {
   "cell_type": "markdown",
   "id": "ee509a36-86a0-4e56-bbeb-ecb29a809288",
   "metadata": {},
   "source": [
    "Duplicates based on all columns:"
   ]
  },
  {
   "cell_type": "code",
   "execution_count": null,
   "id": "71162a8d-4f29-470c-a919-8494ef16e376",
   "metadata": {},
   "outputs": [],
   "source": [
    "# Diagnose duplicates \n",
    "df.duplicated().value_counts()"
   ]
  },
  {
   "cell_type": "code",
   "execution_count": null,
   "id": "f0253293-b7c9-4335-9eef-61b29a09ce2e",
   "metadata": {},
   "outputs": [],
   "source": [
    "# Remove duplicates\n",
    "df = df.drop_duplicates().copy()"
   ]
  },
  {
   "cell_type": "markdown",
   "id": "a55f43e8-f544-414c-8979-d3a52b0b919d",
   "metadata": {},
   "source": [
    "Duplicates based on specific columns, e.g. the ID column or a combination of columns:"
   ]
  },
  {
   "cell_type": "code",
   "execution_count": null,
   "id": "13ec11f9-42d4-4bd2-a769-c6affd2778d9",
   "metadata": {},
   "outputs": [],
   "source": [
    "# Diagnose duplicates\n",
    "df.duplicated(subset=[\"column_1\", \"column_2\", \"column_3\"]).value_counts()"
   ]
  },
  {
   "cell_type": "code",
   "execution_count": null,
   "id": "c620ab52-9ff0-4b3d-a0d6-ee856fdfb4cf",
   "metadata": {},
   "outputs": [],
   "source": [
    "# Remove duplicates\n",
    "df = df.drop_duplicates(subset=[\"column_1\", \"column_2\", \"column_3\"]).copy()"
   ]
  },
  {
   "cell_type": "markdown",
   "id": "eb28c409-34a3-493f-8cd9-856b5c25e0d3",
   "metadata": {},
   "source": [
    "## Data Type Conversion"
   ]
  },
  {
   "cell_type": "code",
   "execution_count": null,
   "id": "5d92d718-ec5a-491c-873b-f2b8230f71a7",
   "metadata": {},
   "outputs": [],
   "source": [
    "# Convert column from str to int\n",
    "df[\"int_column\"] = df[\"str_column\"].astype(\"Int32\")"
   ]
  },
  {
   "cell_type": "code",
   "execution_count": null,
   "id": "ee9eb41a-a715-4c64-a6ca-9db164c4dcbc",
   "metadata": {},
   "outputs": [],
   "source": [
    "# Convert column from str to datetime\n",
    "df[\"datetime_column\"] = pd.to_datetime(df[\"str_column\"])"
   ]
  },
  {
   "cell_type": "markdown",
   "id": "47ff6c41-2244-462e-968a-9e8473a89ed6",
   "metadata": {},
   "source": [
    "## Feature Extraction"
   ]
  },
  {
   "cell_type": "markdown",
   "id": "e1c9931c-d4f6-4255-a894-2be60a02c26e",
   "metadata": {},
   "source": [
    "Extract categorical feature from string column:"
   ]
  },
  {
   "cell_type": "code",
   "execution_count": null,
   "id": "639472a6-9633-4972-b19f-e57b10ad2087",
   "metadata": {},
   "outputs": [],
   "source": [
    "# Function to extract a category from a string   \n",
    "def extract_category_from_string(string):\n",
    "    # Map categories to their corresponding list of keywords\n",
    "    category_keywords_map = {\n",
    "        \"Category 1\": [\"Keyword 1\"],\n",
    "        \"Category 2\": [\"Keyword 2\"],\n",
    "        \"Category 3\": [\"Keyword 3\"]\n",
    "    }\n",
    "\n",
    "    # Loop through each category and its associated keywords \n",
    "    for category, keywords in category_keywords_map.items():\n",
    "        # Check if any keyword is present in the string\n",
    "        if any(keyword in string for keyword in keywords):\n",
    "            return category  # Return the category corresponding to the keyword\n",
    "    return np.nan  # Return a missing value if no keyword matches\n",
    "\n",
    "# Apply function on an existing string column to create a new categorical feature column\n",
    "df[\"categorical_feature\"] = df[\"str_column\"].apply(extract_category_from_string)\n",
    "\n",
    "# Show category frequencies\n",
    "print(df[\"categorical_feature\"].value_counts())"
   ]
  },
  {
   "cell_type": "markdown",
   "id": "48f9089b-a2fd-4305-aa23-086332d45c01",
   "metadata": {},
   "source": [
    "Extract numerical feature from string column:"
   ]
  },
  {
   "cell_type": "code",
   "execution_count": null,
   "id": "41134f56-1d30-435d-9f32-6ff428d940a6",
   "metadata": {},
   "outputs": [],
   "source": [
    "# Imports\n",
    "import re\n",
    "\n",
    "# Function to extract the first number in a string \n",
    "def extract_number_from_string(string):\n",
    "    first_number = re.search(r\"\\b-?\\d+\\b\", string)\n",
    "    if first_number:\n",
    "        return first_number.group()\n",
    "    else:\n",
    "        return np.nan  # Return a missing value if no number in string\n",
    "\n",
    "# Apply function on an existing string column to create a new numerical feature column\n",
    "df[\"numerical_feature\"] = df[\"str_column\"].apply(extract_number_from_string).astype(float)\n",
    "\n",
    "# Show descriptive statistics of numerical feature\n",
    "df[\"numerical_feature\"].describe()"
   ]
  },
  {
   "cell_type": "markdown",
   "id": "6cc4d1a9-db9b-4e28-ba65-986831dd8b38",
   "metadata": {},
   "source": [
    "## Handling Missing Values"
   ]
  },
  {
   "cell_type": "markdown",
   "id": "6c0c06ef-bbbf-4d18-bde4-e7a50fc1a1a3",
   "metadata": {},
   "source": [
    "Missing values on a continuous column:"
   ]
  },
  {
   "cell_type": "code",
   "execution_count": null,
   "id": "1680d14e-5853-4c3f-ac50-d639b7033fa9",
   "metadata": {},
   "outputs": [],
   "source": [
    "# Descriptive statistics of continuous column\n",
    "df[\"continuous_column\"].describe()"
   ]
  },
  {
   "cell_type": "code",
   "execution_count": null,
   "id": "342ca973-3ef1-43a3-b690-69c0ed2f0d12",
   "metadata": {},
   "outputs": [],
   "source": [
    "# Impute missing values with the median\n",
    "median = df[\"continuous_column\"].median()\n",
    "df[\"continuous_column\"] = df[\"continuous_column\"].fillna(median)"
   ]
  },
  {
   "cell_type": "markdown",
   "id": "8018d4b9-c440-4b15-aafb-a4bb3a3e79fa",
   "metadata": {},
   "source": [
    "Missing values on a categorical column:"
   ]
  },
  {
   "cell_type": "code",
   "execution_count": null,
   "id": "0638cab2-bc30-4ae3-9cc1-310b50d5cb69",
   "metadata": {},
   "outputs": [],
   "source": [
    "# Frequencies of categorical column\n",
    "df[\"categorical_column\"].value_counts()"
   ]
  },
  {
   "cell_type": "code",
   "execution_count": null,
   "id": "c36266f3-6460-48cf-83af-0c888432655b",
   "metadata": {},
   "outputs": [],
   "source": [
    "# Impute missing values with the mode \n",
    "mode = df[\"categorical_column\"].mode()[0]\n",
    "df[\"categorical_column\"] = df[\"categorical_column\"].fillna(mode)"
   ]
  },
  {
   "cell_type": "markdown",
   "id": "9ca10b19-02a9-4a0f-b543-7374f677d139",
   "metadata": {},
   "source": [
    "# Exploratory Data Analysis (EDA)"
   ]
  },
  {
   "cell_type": "markdown",
   "id": "e4f4d486-4d2c-4214-a260-ed19c446c41b",
   "metadata": {},
   "source": [
    "# Train-Validation-Test Split"
   ]
  },
  {
   "cell_type": "markdown",
   "id": "da21e2d4-cbd4-42f7-b7d1-f3997b3619f1",
   "metadata": {},
   "source": [
    "# Model Training"
   ]
  }
 ],
 "metadata": {
  "kernelspec": {
   "display_name": "machine-learning-venv",
   "language": "python",
   "name": "machine-learning-venv"
  },
  "language_info": {
   "codemirror_mode": {
    "name": "ipython",
    "version": 3
   },
   "file_extension": ".py",
   "mimetype": "text/x-python",
   "name": "python",
   "nbconvert_exporter": "python",
   "pygments_lexer": "ipython3",
   "version": "3.10.4"
  }
 },
 "nbformat": 4,
 "nbformat_minor": 5
}
